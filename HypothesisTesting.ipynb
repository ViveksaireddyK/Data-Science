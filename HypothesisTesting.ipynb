{
  "nbformat": 4,
  "nbformat_minor": 0,
  "metadata": {
    "colab": {
      "provenance": []
    },
    "kernelspec": {
      "name": "python3",
      "display_name": "Python 3"
    },
    "language_info": {
      "name": "python"
    }
  },
  "cells": [
    {
      "cell_type": "code",
      "execution_count": 1,
      "metadata": {
        "id": "c6jwT3C_yQKE"
      },
      "outputs": [],
      "source": [
        "import numpy as np\n",
        "import pandas as pd\n",
        "import scipy.stats as st"
      ]
    },
    {
      "cell_type": "markdown",
      "source": [
        "For a hypothesis test of whether the mean Netflix movie length is 90 minutes, we chose a random sample of 32 of the available movies. The mean runtime for this sample was 104 minutes with a sample standard deviation of 18 minutes."
      ],
      "metadata": {
        "id": "iEmfi6RZBJXw"
      }
    },
    {
      "cell_type": "code",
      "source": [
        "# Null Hypothesis: Average lenght of the movie duration equal to 90 mins\n",
        "# Alternative Hypothesis: Average lenght of the movie duration is not equal to 90 mins\n",
        "# Two tailed test should be conducted as part of the hypothesis test"
      ],
      "metadata": {
        "id": "2X6S88asu9fd"
      },
      "execution_count": 6,
      "outputs": []
    },
    {
      "cell_type": "code",
      "source": [
        "# H0: µ=90, H1: µ!=90\n",
        "mu = 90\n",
        "n = 32\n",
        "xbar = 104\n",
        "sigma = 18\n",
        "alpha = 0.05"
      ],
      "metadata": {
        "id": "HR53DXSByxI4"
      },
      "execution_count": 7,
      "outputs": []
    },
    {
      "cell_type": "code",
      "source": [
        "# test static\n",
        "z = (xbar-mu)/(sigma/np.sqrt(n)) \n",
        "z"
      ],
      "metadata": {
        "colab": {
          "base_uri": "https://localhost:8080/"
        },
        "id": "UC_JItBCCZKr",
        "outputId": "a328006c-12fd-498f-d2c5-cbf84179ad48"
      },
      "execution_count": 8,
      "outputs": [
        {
          "output_type": "execute_result",
          "data": {
            "text/plain": [
              "4.399775527382962"
            ]
          },
          "metadata": {},
          "execution_count": 8
        }
      ]
    },
    {
      "cell_type": "code",
      "source": [
        "# P-value\n",
        "p_val = (1 - st.norm.cdf(abs(z))) * 2\n",
        "p_val"
      ],
      "metadata": {
        "colab": {
          "base_uri": "https://localhost:8080/"
        },
        "id": "ydOUuzfsC3z7",
        "outputId": "79d33598-1825-496b-87d5-1d975fb043e4"
      },
      "execution_count": 9,
      "outputs": [
        {
          "output_type": "execute_result",
          "data": {
            "text/plain": [
              "1.0836291150617683e-05"
            ]
          },
          "metadata": {},
          "execution_count": 9
        }
      ]
    },
    {
      "cell_type": "code",
      "source": [
        "if (p_val > alpha):\n",
        "    print(\"Null hypothesis cannot be rejected\")\n",
        "else:\n",
        "    print(\"Reject null hypothesis\")"
      ],
      "metadata": {
        "colab": {
          "base_uri": "https://localhost:8080/"
        },
        "id": "PnF1gd84Cgn_",
        "outputId": "6d481d1d-1e4f-479b-8fc3-48d899ca6638"
      },
      "execution_count": 10,
      "outputs": [
        {
          "output_type": "stream",
          "name": "stdout",
          "text": [
            "Reject null hypothesis\n"
          ]
        }
      ]
    }
  ]
}