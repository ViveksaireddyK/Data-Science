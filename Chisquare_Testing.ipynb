{
  "nbformat": 4,
  "nbformat_minor": 0,
  "metadata": {
    "colab": {
      "provenance": []
    },
    "kernelspec": {
      "name": "python3",
      "display_name": "Python 3"
    },
    "language_info": {
      "name": "python"
    }
  },
  "cells": [
    {
      "cell_type": "code",
      "execution_count": 13,
      "metadata": {
        "id": "Y384O0g_i2H8"
      },
      "outputs": [],
      "source": [
        "import pandas as pd\n",
        "import numpy as np\n",
        "import matplotlib.pyplot as plt\n",
        "from scipy.stats import chi2_contingency"
      ]
    },
    {
      "cell_type": "code",
      "source": [
        "df = pd.read_csv('/content/drive/MyDrive/Data Science/Netflix/netflix_data.csv')\n",
        "df.head()"
      ],
      "metadata": {
        "colab": {
          "base_uri": "https://localhost:8080/",
          "height": 739
        },
        "id": "hnp4TA6itHhQ",
        "outputId": "67a2a97f-e65a-43c3-cac8-4f6a5a3f2f63"
      },
      "execution_count": 14,
      "outputs": [
        {
          "output_type": "execute_result",
          "data": {
            "text/plain": [
              "  show_id     type  title           director  \\\n",
              "0      s1  TV Show     3%                NaN   \n",
              "1      s2    Movie   7:19  Jorge Michel Grau   \n",
              "2      s3    Movie  23:59       Gilbert Chan   \n",
              "3      s4    Movie      9        Shane Acker   \n",
              "4      s5    Movie     21     Robert Luketic   \n",
              "\n",
              "                                                cast        country  \\\n",
              "0  João Miguel, Bianca Comparato, Michel Gomes, R...         Brazil   \n",
              "1  Demián Bichir, Héctor Bonilla, Oscar Serrano, ...         Mexico   \n",
              "2  Tedd Chan, Stella Chung, Henley Hii, Lawrence ...      Singapore   \n",
              "3  Elijah Wood, John C. Reilly, Jennifer Connelly...  United States   \n",
              "4  Jim Sturgess, Kevin Spacey, Kate Bosworth, Aar...  United States   \n",
              "\n",
              "          date_added  release_year  duration  \\\n",
              "0    August 14, 2020          2020         4   \n",
              "1  December 23, 2016          2016        93   \n",
              "2  December 20, 2018          2011        78   \n",
              "3  November 16, 2017          2009        80   \n",
              "4    January 1, 2020          2008       123   \n",
              "\n",
              "                                         description             genre  \n",
              "0  In a future where the elite inhabit an island ...  International TV  \n",
              "1  After a devastating earthquake hits Mexico Cit...            Dramas  \n",
              "2  When an army recruit is found dead, his fellow...     Horror Movies  \n",
              "3  In a postapocalyptic world, rag-doll robots hi...            Action  \n",
              "4  A brilliant group of students become card-coun...            Dramas  "
            ],
            "text/html": [
              "\n",
              "  <div id=\"df-43d71446-ae8d-44d1-ad63-4ce4f3d6c02d\">\n",
              "    <div class=\"colab-df-container\">\n",
              "      <div>\n",
              "<style scoped>\n",
              "    .dataframe tbody tr th:only-of-type {\n",
              "        vertical-align: middle;\n",
              "    }\n",
              "\n",
              "    .dataframe tbody tr th {\n",
              "        vertical-align: top;\n",
              "    }\n",
              "\n",
              "    .dataframe thead th {\n",
              "        text-align: right;\n",
              "    }\n",
              "</style>\n",
              "<table border=\"1\" class=\"dataframe\">\n",
              "  <thead>\n",
              "    <tr style=\"text-align: right;\">\n",
              "      <th></th>\n",
              "      <th>show_id</th>\n",
              "      <th>type</th>\n",
              "      <th>title</th>\n",
              "      <th>director</th>\n",
              "      <th>cast</th>\n",
              "      <th>country</th>\n",
              "      <th>date_added</th>\n",
              "      <th>release_year</th>\n",
              "      <th>duration</th>\n",
              "      <th>description</th>\n",
              "      <th>genre</th>\n",
              "    </tr>\n",
              "  </thead>\n",
              "  <tbody>\n",
              "    <tr>\n",
              "      <th>0</th>\n",
              "      <td>s1</td>\n",
              "      <td>TV Show</td>\n",
              "      <td>3%</td>\n",
              "      <td>NaN</td>\n",
              "      <td>João Miguel, Bianca Comparato, Michel Gomes, R...</td>\n",
              "      <td>Brazil</td>\n",
              "      <td>August 14, 2020</td>\n",
              "      <td>2020</td>\n",
              "      <td>4</td>\n",
              "      <td>In a future where the elite inhabit an island ...</td>\n",
              "      <td>International TV</td>\n",
              "    </tr>\n",
              "    <tr>\n",
              "      <th>1</th>\n",
              "      <td>s2</td>\n",
              "      <td>Movie</td>\n",
              "      <td>7:19</td>\n",
              "      <td>Jorge Michel Grau</td>\n",
              "      <td>Demián Bichir, Héctor Bonilla, Oscar Serrano, ...</td>\n",
              "      <td>Mexico</td>\n",
              "      <td>December 23, 2016</td>\n",
              "      <td>2016</td>\n",
              "      <td>93</td>\n",
              "      <td>After a devastating earthquake hits Mexico Cit...</td>\n",
              "      <td>Dramas</td>\n",
              "    </tr>\n",
              "    <tr>\n",
              "      <th>2</th>\n",
              "      <td>s3</td>\n",
              "      <td>Movie</td>\n",
              "      <td>23:59</td>\n",
              "      <td>Gilbert Chan</td>\n",
              "      <td>Tedd Chan, Stella Chung, Henley Hii, Lawrence ...</td>\n",
              "      <td>Singapore</td>\n",
              "      <td>December 20, 2018</td>\n",
              "      <td>2011</td>\n",
              "      <td>78</td>\n",
              "      <td>When an army recruit is found dead, his fellow...</td>\n",
              "      <td>Horror Movies</td>\n",
              "    </tr>\n",
              "    <tr>\n",
              "      <th>3</th>\n",
              "      <td>s4</td>\n",
              "      <td>Movie</td>\n",
              "      <td>9</td>\n",
              "      <td>Shane Acker</td>\n",
              "      <td>Elijah Wood, John C. Reilly, Jennifer Connelly...</td>\n",
              "      <td>United States</td>\n",
              "      <td>November 16, 2017</td>\n",
              "      <td>2009</td>\n",
              "      <td>80</td>\n",
              "      <td>In a postapocalyptic world, rag-doll robots hi...</td>\n",
              "      <td>Action</td>\n",
              "    </tr>\n",
              "    <tr>\n",
              "      <th>4</th>\n",
              "      <td>s5</td>\n",
              "      <td>Movie</td>\n",
              "      <td>21</td>\n",
              "      <td>Robert Luketic</td>\n",
              "      <td>Jim Sturgess, Kevin Spacey, Kate Bosworth, Aar...</td>\n",
              "      <td>United States</td>\n",
              "      <td>January 1, 2020</td>\n",
              "      <td>2008</td>\n",
              "      <td>123</td>\n",
              "      <td>A brilliant group of students become card-coun...</td>\n",
              "      <td>Dramas</td>\n",
              "    </tr>\n",
              "  </tbody>\n",
              "</table>\n",
              "</div>\n",
              "      <button class=\"colab-df-convert\" onclick=\"convertToInteractive('df-43d71446-ae8d-44d1-ad63-4ce4f3d6c02d')\"\n",
              "              title=\"Convert this dataframe to an interactive table.\"\n",
              "              style=\"display:none;\">\n",
              "        \n",
              "  <svg xmlns=\"http://www.w3.org/2000/svg\" height=\"24px\"viewBox=\"0 0 24 24\"\n",
              "       width=\"24px\">\n",
              "    <path d=\"M0 0h24v24H0V0z\" fill=\"none\"/>\n",
              "    <path d=\"M18.56 5.44l.94 2.06.94-2.06 2.06-.94-2.06-.94-.94-2.06-.94 2.06-2.06.94zm-11 1L8.5 8.5l.94-2.06 2.06-.94-2.06-.94L8.5 2.5l-.94 2.06-2.06.94zm10 10l.94 2.06.94-2.06 2.06-.94-2.06-.94-.94-2.06-.94 2.06-2.06.94z\"/><path d=\"M17.41 7.96l-1.37-1.37c-.4-.4-.92-.59-1.43-.59-.52 0-1.04.2-1.43.59L10.3 9.45l-7.72 7.72c-.78.78-.78 2.05 0 2.83L4 21.41c.39.39.9.59 1.41.59.51 0 1.02-.2 1.41-.59l7.78-7.78 2.81-2.81c.8-.78.8-2.07 0-2.86zM5.41 20L4 18.59l7.72-7.72 1.47 1.35L5.41 20z\"/>\n",
              "  </svg>\n",
              "      </button>\n",
              "      \n",
              "  <style>\n",
              "    .colab-df-container {\n",
              "      display:flex;\n",
              "      flex-wrap:wrap;\n",
              "      gap: 12px;\n",
              "    }\n",
              "\n",
              "    .colab-df-convert {\n",
              "      background-color: #E8F0FE;\n",
              "      border: none;\n",
              "      border-radius: 50%;\n",
              "      cursor: pointer;\n",
              "      display: none;\n",
              "      fill: #1967D2;\n",
              "      height: 32px;\n",
              "      padding: 0 0 0 0;\n",
              "      width: 32px;\n",
              "    }\n",
              "\n",
              "    .colab-df-convert:hover {\n",
              "      background-color: #E2EBFA;\n",
              "      box-shadow: 0px 1px 2px rgba(60, 64, 67, 0.3), 0px 1px 3px 1px rgba(60, 64, 67, 0.15);\n",
              "      fill: #174EA6;\n",
              "    }\n",
              "\n",
              "    [theme=dark] .colab-df-convert {\n",
              "      background-color: #3B4455;\n",
              "      fill: #D2E3FC;\n",
              "    }\n",
              "\n",
              "    [theme=dark] .colab-df-convert:hover {\n",
              "      background-color: #434B5C;\n",
              "      box-shadow: 0px 1px 3px 1px rgba(0, 0, 0, 0.15);\n",
              "      filter: drop-shadow(0px 1px 2px rgba(0, 0, 0, 0.3));\n",
              "      fill: #FFFFFF;\n",
              "    }\n",
              "  </style>\n",
              "\n",
              "      <script>\n",
              "        const buttonEl =\n",
              "          document.querySelector('#df-43d71446-ae8d-44d1-ad63-4ce4f3d6c02d button.colab-df-convert');\n",
              "        buttonEl.style.display =\n",
              "          google.colab.kernel.accessAllowed ? 'block' : 'none';\n",
              "\n",
              "        async function convertToInteractive(key) {\n",
              "          const element = document.querySelector('#df-43d71446-ae8d-44d1-ad63-4ce4f3d6c02d');\n",
              "          const dataTable =\n",
              "            await google.colab.kernel.invokeFunction('convertToInteractive',\n",
              "                                                     [key], {});\n",
              "          if (!dataTable) return;\n",
              "\n",
              "          const docLinkHtml = 'Like what you see? Visit the ' +\n",
              "            '<a target=\"_blank\" href=https://colab.research.google.com/notebooks/data_table.ipynb>data table notebook</a>'\n",
              "            + ' to learn more about interactive tables.';\n",
              "          element.innerHTML = '';\n",
              "          dataTable['output_type'] = 'display_data';\n",
              "          await google.colab.output.renderOutput(dataTable, element);\n",
              "          const docLink = document.createElement('div');\n",
              "          docLink.innerHTML = docLinkHtml;\n",
              "          element.appendChild(docLink);\n",
              "        }\n",
              "      </script>\n",
              "    </div>\n",
              "  </div>\n",
              "  "
            ]
          },
          "metadata": {},
          "execution_count": 14
        }
      ]
    },
    {
      "cell_type": "code",
      "source": [
        "df['country'].unique()"
      ],
      "metadata": {
        "colab": {
          "base_uri": "https://localhost:8080/"
        },
        "id": "ODb4ZSqrtZFx",
        "outputId": "32479112-45ed-44d3-96ec-cdbcc815ec11"
      },
      "execution_count": 15,
      "outputs": [
        {
          "output_type": "execute_result",
          "data": {
            "text/plain": [
              "array(['Brazil', 'Mexico', 'Singapore', 'United States', 'Turkey',\n",
              "       'Egypt', 'India', 'Poland', 'Thailand', 'Nigeria', nan, 'Norway',\n",
              "       'United Kingdom', 'Japan', 'South Korea', 'Italy', 'Canada',\n",
              "       'Indonesia', 'Romania', 'Spain', 'Iceland', 'South Africa',\n",
              "       'France', 'Portugal', 'Hong Kong', 'Argentina', 'Germany',\n",
              "       'Denmark', 'Kenya', 'New Zealand', 'Pakistan', 'Australia',\n",
              "       'China', 'Taiwan', 'Netherlands', 'Philippines', 'United Arab',\n",
              "       'Iran', 'Israel', 'Uruguay', 'Bulgaria', 'Mauritius', 'Lebanon',\n",
              "       'Colombia', 'Soviet Union', 'Sweden', 'Malaysia', 'Ireland',\n",
              "       'Serbia', 'Finland', 'Peru', 'Chile', 'Ghana', 'Saudi Arabia',\n",
              "       'Namibia', 'Russia', 'Belgium', 'Vietnam', 'Kuwait',\n",
              "       'Czech Republic', 'Zimbabwe', 'Hungary', 'Venezuela', 'Cambodia',\n",
              "       'Austria', 'West Germany', 'Slovenia', 'Switzerland', 'Jordan',\n",
              "       'Bangladesh', 'Georgia', 'Puerto Rico', 'Senegal', 'Guatemala',\n",
              "       'Ukraine', 'Jamaica', 'Belarus', 'Cyprus', 'Greece', 'Paraguay',\n",
              "       'Croatia', 'Somalia'], dtype=object)"
            ]
          },
          "metadata": {},
          "execution_count": 15
        }
      ]
    },
    {
      "cell_type": "code",
      "source": [
        "country_grp = df.groupby(['country'])"
      ],
      "metadata": {
        "id": "UW48yB6Vtdgx"
      },
      "execution_count": 16,
      "outputs": []
    },
    {
      "cell_type": "code",
      "source": [
        "country_grp['genre'].value_counts().loc['India']"
      ],
      "metadata": {
        "colab": {
          "base_uri": "https://localhost:8080/"
        },
        "id": "h3FUIwE7tgaP",
        "outputId": "5e55b0c9-9bda-420c-d10c-c7df630eb723"
      },
      "execution_count": 17,
      "outputs": [
        {
          "output_type": "execute_result",
          "data": {
            "text/plain": [
              "genre\n",
              "Dramas                  382\n",
              "Comedies                254\n",
              "Action                  127\n",
              "International TV         44\n",
              "International Movies     35\n",
              "Horror Movies            30\n",
              "Children                 19\n",
              "Documentaries            19\n",
              "Kids                     11\n",
              "Classic Movies            9\n",
              "Crime TV                  9\n",
              "Docuseries                6\n",
              "Stand-Up                  6\n",
              "TV Shows                  2\n",
              "British TV                1\n",
              "Cult Movies               1\n",
              "Independent Movies        1\n",
              "Name: genre, dtype: int64"
            ]
          },
          "metadata": {},
          "execution_count": 17
        }
      ]
    },
    {
      "cell_type": "code",
      "source": [
        "country_grp['genre'].value_counts().loc['United States']"
      ],
      "metadata": {
        "colab": {
          "base_uri": "https://localhost:8080/"
        },
        "id": "0o4eh9BntnTK",
        "outputId": "d4a43d9d-31a2-455b-aac0-2be83be26620"
      },
      "execution_count": 18,
      "outputs": [
        {
          "output_type": "execute_result",
          "data": {
            "text/plain": [
              "genre\n",
              "Documentaries         397\n",
              "Dramas                377\n",
              "Comedies              328\n",
              "Children              290\n",
              "Action                245\n",
              "Stand-Up              238\n",
              "Kids                  163\n",
              "Docuseries            118\n",
              "Crime TV              112\n",
              "Horror Movies         111\n",
              "TV Comedies           100\n",
              "Reality TV             80\n",
              "TV Dramas              52\n",
              "Classic Movies         42\n",
              "Thrillers              40\n",
              "TV Action              33\n",
              "Romantic TV            26\n",
              "Uncategorized          22\n",
              "International TV       18\n",
              "Classic                16\n",
              "Independent Movies     13\n",
              "Anime Series           11\n",
              "Music                  10\n",
              "British TV              9\n",
              "Cult Movies             9\n",
              "TV Horror               9\n",
              "Sci-Fi                  6\n",
              "TV Shows                3\n",
              "Romantic Movies         2\n",
              "Spanish-Language        2\n",
              "Anime Features          1\n",
              "Name: genre, dtype: int64"
            ]
          },
          "metadata": {},
          "execution_count": 18
        }
      ]
    },
    {
      "cell_type": "code",
      "source": [
        "country_grp['genre'].value_counts().loc['Brazil']"
      ],
      "metadata": {
        "colab": {
          "base_uri": "https://localhost:8080/"
        },
        "id": "C14Ng3PZttdq",
        "outputId": "a5847b1c-aa6e-44cc-9eb3-20eaba4a80e7"
      },
      "execution_count": 19,
      "outputs": [
        {
          "output_type": "execute_result",
          "data": {
            "text/plain": [
              "genre\n",
              "International TV    15\n",
              "Comedies            11\n",
              "Documentaries       11\n",
              "Dramas              11\n",
              "Stand-Up             9\n",
              "Children             7\n",
              "Crime TV             5\n",
              "Docuseries           5\n",
              "Action               3\n",
              "Kids                 2\n",
              "Name: genre, dtype: int64"
            ]
          },
          "metadata": {},
          "execution_count": 19
        }
      ]
    },
    {
      "cell_type": "markdown",
      "source": [
        "We can select the above 3 countries and the categories as Dramas and Action. The null hypothesis is that there is no relation between the country and the corresponding video categories. The alternative hypothesis can be that there is a relation or that they are not independent."
      ],
      "metadata": {
        "id": "5CXp4bAat1wp"
      }
    },
    {
      "cell_type": "code",
      "source": [
        "data = [[382, 127], [377, 245], [11, 3]]"
      ],
      "metadata": {
        "id": "qEZY2lcJtyj4"
      },
      "execution_count": 20,
      "outputs": []
    },
    {
      "cell_type": "code",
      "source": [
        "test_statistic, p_value, dof, expected_freq = chi2_contingency(data)"
      ],
      "metadata": {
        "id": "2Hu-SirjuI5k"
      },
      "execution_count": 21,
      "outputs": []
    },
    {
      "cell_type": "code",
      "source": [
        "print(f'Test Statistic - {test_statistic}\\nP-Value - {p_value}\\nDegrees of Freedom - {dof}')"
      ],
      "metadata": {
        "colab": {
          "base_uri": "https://localhost:8080/"
        },
        "id": "XCdN2xRAuZU6",
        "outputId": "496c3b1a-8b82-40e6-f09b-993a8a62c587"
      },
      "execution_count": 22,
      "outputs": [
        {
          "output_type": "stream",
          "name": "stdout",
          "text": [
            "Test Statistic - 27.319724565056845\n",
            "P-Value - 1.168415170492391e-06\n",
            "Degrees of Freedom - 2\n"
          ]
        }
      ]
    },
    {
      "cell_type": "code",
      "source": [
        "alpha = 0.05\n",
        "if p_value <= alpha:\n",
        "    print('Reject null hypothesis')\n",
        "else:\n",
        "    print('Fail to reject null hypothesis')"
      ],
      "metadata": {
        "colab": {
          "base_uri": "https://localhost:8080/"
        },
        "id": "6XwVUIQAubAe",
        "outputId": "5c7fdd18-5b16-4e3f-8de3-a3ed7fa3c546"
      },
      "execution_count": 23,
      "outputs": [
        {
          "output_type": "stream",
          "name": "stdout",
          "text": [
            "Reject null hypothesis\n"
          ]
        }
      ]
    },
    {
      "cell_type": "code",
      "source": [],
      "metadata": {
        "id": "4oEjqmAxvloL"
      },
      "execution_count": 23,
      "outputs": []
    }
  ]
}